{
 "cells": [
  {
   "cell_type": "markdown",
   "id": "abab6362-5a5e-46d9-b1fa-3b77e003105d",
   "metadata": {},
   "source": [
    "# Branch and bound\n",
    "\n",
    "Method to solve non-convex problems globally (and slowly)."
   ]
  },
  {
   "cell_type": "code",
   "execution_count": 7,
   "id": "71da9f4d-5bd3-41df-9c66-63b9c30ae39a",
   "metadata": {},
   "outputs": [
    {
     "data": {
      "text/plain": [
       "(5, 5)"
      ]
     },
     "execution_count": 7,
     "metadata": {},
     "output_type": "execute_result"
    }
   ],
   "source": [
    "import numpy as np\n",
    "\n",
    "cost = np.random.uniform(5,10,size=(5,5))\n",
    "cost.shape"
   ]
  },
  {
   "cell_type": "markdown",
   "id": "1e726c9a-01c5-44b1-86cd-cd9d84995e45",
   "metadata": {},
   "source": [
    "# First step of branch and bound is defining lower/upper bound functions"
   ]
  },
  {
   "cell_type": "code",
   "execution_count": null,
   "id": "be5bbf7a-f111-4858-a626-c80c6e9a0619",
   "metadata": {},
   "outputs": [],
   "source": [
    "def upper_bound():\n",
    "    pass\n",
    "\n",
    "def lower_bound():\n",
    "    pass \n",
    "\n",
    "\n",
    "    "
   ]
  },
  {
   "cell_type": "code",
   "execution_count": 53,
   "id": "2b427820-0d0f-4113-ad6f-e0008656bcba",
   "metadata": {},
   "outputs": [
    {
     "ename": "SolverError",
     "evalue": "Solver 'ECOS' failed. Try another solver, or solve with verbose=True for more information.",
     "output_type": "error",
     "traceback": [
      "\u001b[0;31m---------------------------------------------------------------------------\u001b[0m",
      "\u001b[0;31mSolverError\u001b[0m                               Traceback (most recent call last)",
      "Cell \u001b[0;32mIn[53], line 59\u001b[0m\n\u001b[1;32m     55\u001b[0m L, U \u001b[38;5;241m=\u001b[39m bounding_box_on_problem()\n\u001b[1;32m     58\u001b[0m \u001b[38;5;66;03m# Solve the relaxation of the boolean LP\u001b[39;00m\n\u001b[0;32m---> 59\u001b[0m x, z \u001b[38;5;241m=\u001b[39m \u001b[43mrelaxed_boolean_lp\u001b[49m\u001b[43m(\u001b[49m\u001b[43mL\u001b[49m\u001b[43m,\u001b[49m\u001b[43m \u001b[49m\u001b[43mU\u001b[49m\u001b[43m)\u001b[49m\n\u001b[1;32m     61\u001b[0m upper_bound \u001b[38;5;241m=\u001b[39m card(x)\n\u001b[1;32m     62\u001b[0m lower_bound \u001b[38;5;241m=\u001b[39m np\u001b[38;5;241m.\u001b[39mones(n)\u001b[38;5;241m.\u001b[39mT \u001b[38;5;241m@\u001b[39m z\n",
      "Cell \u001b[0;32mIn[53], line 43\u001b[0m, in \u001b[0;36mrelaxed_boolean_lp\u001b[0;34m(L, U)\u001b[0m\n\u001b[1;32m     41\u001b[0m     contraints\u001b[38;5;241m.\u001b[39mappend(x[i] \u001b[38;5;241m<\u001b[39m\u001b[38;5;241m=\u001b[39m U[i] \u001b[38;5;241m*\u001b[39m z[i])\n\u001b[1;32m     42\u001b[0m problem \u001b[38;5;241m=\u001b[39m cp\u001b[38;5;241m.\u001b[39mProblem(objective, contraints)\n\u001b[0;32m---> 43\u001b[0m \u001b[43mproblem\u001b[49m\u001b[38;5;241;43m.\u001b[39;49m\u001b[43msolve\u001b[49m\u001b[43m(\u001b[49m\u001b[43m)\u001b[49m\n\u001b[1;32m     44\u001b[0m \u001b[38;5;28;01mreturn\u001b[39;00m x\u001b[38;5;241m.\u001b[39mvalue, z\u001b[38;5;241m.\u001b[39mvalue\n",
      "File \u001b[0;32m~/.local/lib/python3.10/site-packages/cvxpy/problems/problem.py:493\u001b[0m, in \u001b[0;36mProblem.solve\u001b[0;34m(self, *args, **kwargs)\u001b[0m\n\u001b[1;32m    491\u001b[0m \u001b[38;5;28;01melse\u001b[39;00m:\n\u001b[1;32m    492\u001b[0m     solve_func \u001b[38;5;241m=\u001b[39m Problem\u001b[38;5;241m.\u001b[39m_solve\n\u001b[0;32m--> 493\u001b[0m \u001b[38;5;28;01mreturn\u001b[39;00m \u001b[43msolve_func\u001b[49m\u001b[43m(\u001b[49m\u001b[38;5;28;43mself\u001b[39;49m\u001b[43m,\u001b[49m\u001b[43m \u001b[49m\u001b[38;5;241;43m*\u001b[39;49m\u001b[43margs\u001b[49m\u001b[43m,\u001b[49m\u001b[43m \u001b[49m\u001b[38;5;241;43m*\u001b[39;49m\u001b[38;5;241;43m*\u001b[39;49m\u001b[43mkwargs\u001b[49m\u001b[43m)\u001b[49m\n",
      "File \u001b[0;32m~/.local/lib/python3.10/site-packages/cvxpy/problems/problem.py:1068\u001b[0m, in \u001b[0;36mProblem._solve\u001b[0;34m(self, solver, warm_start, verbose, gp, qcp, requires_grad, enforce_dpp, ignore_dpp, canon_backend, **kwargs)\u001b[0m\n\u001b[1;32m   1066\u001b[0m end \u001b[38;5;241m=\u001b[39m time\u001b[38;5;241m.\u001b[39mtime()\n\u001b[1;32m   1067\u001b[0m \u001b[38;5;28mself\u001b[39m\u001b[38;5;241m.\u001b[39m_solve_time \u001b[38;5;241m=\u001b[39m end \u001b[38;5;241m-\u001b[39m start\n\u001b[0;32m-> 1068\u001b[0m \u001b[38;5;28;43mself\u001b[39;49m\u001b[38;5;241;43m.\u001b[39;49m\u001b[43munpack_results\u001b[49m\u001b[43m(\u001b[49m\u001b[43msolution\u001b[49m\u001b[43m,\u001b[49m\u001b[43m \u001b[49m\u001b[43msolving_chain\u001b[49m\u001b[43m,\u001b[49m\u001b[43m \u001b[49m\u001b[43minverse_data\u001b[49m\u001b[43m)\u001b[49m\n\u001b[1;32m   1069\u001b[0m \u001b[38;5;28;01mif\u001b[39;00m verbose:\n\u001b[1;32m   1070\u001b[0m     \u001b[38;5;28mprint\u001b[39m(_FOOTER)\n",
      "File \u001b[0;32m~/.local/lib/python3.10/site-packages/cvxpy/problems/problem.py:1393\u001b[0m, in \u001b[0;36mProblem.unpack_results\u001b[0;34m(self, solution, chain, inverse_data)\u001b[0m\n\u001b[1;32m   1391\u001b[0m     warnings\u001b[38;5;241m.\u001b[39mwarn(INF_OR_UNB_MESSAGE)\n\u001b[1;32m   1392\u001b[0m \u001b[38;5;28;01mif\u001b[39;00m solution\u001b[38;5;241m.\u001b[39mstatus \u001b[38;5;129;01min\u001b[39;00m s\u001b[38;5;241m.\u001b[39mERROR:\n\u001b[0;32m-> 1393\u001b[0m     \u001b[38;5;28;01mraise\u001b[39;00m error\u001b[38;5;241m.\u001b[39mSolverError(\n\u001b[1;32m   1394\u001b[0m             \u001b[38;5;124m\"\u001b[39m\u001b[38;5;124mSolver \u001b[39m\u001b[38;5;124m'\u001b[39m\u001b[38;5;132;01m%s\u001b[39;00m\u001b[38;5;124m'\u001b[39m\u001b[38;5;124m failed. \u001b[39m\u001b[38;5;124m\"\u001b[39m \u001b[38;5;241m%\u001b[39m chain\u001b[38;5;241m.\u001b[39msolver\u001b[38;5;241m.\u001b[39mname() \u001b[38;5;241m+\u001b[39m\n\u001b[1;32m   1395\u001b[0m             \u001b[38;5;124m\"\u001b[39m\u001b[38;5;124mTry another solver, or solve with verbose=True for more \u001b[39m\u001b[38;5;124m\"\u001b[39m\n\u001b[1;32m   1396\u001b[0m             \u001b[38;5;124m\"\u001b[39m\u001b[38;5;124minformation.\u001b[39m\u001b[38;5;124m\"\u001b[39m)\n\u001b[1;32m   1398\u001b[0m \u001b[38;5;28mself\u001b[39m\u001b[38;5;241m.\u001b[39munpack(solution)\n\u001b[1;32m   1399\u001b[0m \u001b[38;5;28mself\u001b[39m\u001b[38;5;241m.\u001b[39m_solver_stats \u001b[38;5;241m=\u001b[39m SolverStats(\u001b[38;5;28mself\u001b[39m\u001b[38;5;241m.\u001b[39m_solution\u001b[38;5;241m.\u001b[39mattr,\n\u001b[1;32m   1400\u001b[0m                                  chain\u001b[38;5;241m.\u001b[39msolver\u001b[38;5;241m.\u001b[39mname())\n",
      "\u001b[0;31mSolverError\u001b[0m: Solver 'ECOS' failed. Try another solver, or solve with verbose=True for more information."
     ]
    }
   ],
   "source": [
    "import cvxpy as cp \n",
    "\n",
    "def card(x):\n",
    "    return len(x[x > 0])\n",
    "\n",
    "def bounding_box_on_problem():\n",
    "    # solve 2n lps \n",
    "    L = np.zeros(n)\n",
    "    U = np.zeros(n)\n",
    "    for i in range(n):\n",
    "        x = cp.Variable(n)\n",
    "        objective = cp.Minimize(x[i])\n",
    "        constraints = [A @ x <= b]\n",
    "        problem = cp.Problem(objective, constraints)\n",
    "        problem.solve()\n",
    "        L[i] = x.value[i]\n",
    "        \n",
    "        x = cp.Variable(n)\n",
    "        obj = cp.Maximize(x[i])\n",
    "        constraints = [A @ x <= b]\n",
    "        problem = cp.Problem(objective, constraints)\n",
    "        problem.solve()\n",
    "        if x.value == None:\n",
    "            U[i] = np.inf\n",
    "        else:\n",
    "            U[i] = x.value[i]\n",
    "        \n",
    "    return L,U\n",
    "\n",
    "def relaxed_boolean_lp(L, U):\n",
    "    z = cp.Variable(n)\n",
    "    x = cp.Variable(n)\n",
    "    objective = cp.Minimize(np.ones(n).T @ z)\n",
    "    contraints = [\n",
    "        A @ x <= b,\n",
    "        0 <= z,\n",
    "        z <= 1\n",
    "    ]\n",
    "    for i in range(n):\n",
    "        contraints.append(L[i] * z[i] <= x[i])\n",
    "        contraints.append(x[i] <= U[i] * z[i])\n",
    "    problem = cp.Problem(objective, contraints)\n",
    "    problem.solve()\n",
    "    return x.value, z.value\n",
    "    \n",
    "        \n",
    "\n",
    "# Initalise the problem\n",
    "m = 100\n",
    "n = 30\n",
    "A = np.random.normal(0,1,size=(m,n))\n",
    "b = np.random.uniform(0,1,size=(m))\n",
    "\n",
    "# Solve for the bounding box on x\n",
    "L, U = bounding_box_on_problem()\n",
    "\n",
    "\n",
    "# Solve the relaxation of the boolean LP\n",
    "x, z = relaxed_boolean_lp(L, U)\n",
    "\n",
    "upper_bound = card(x)\n",
    "lower_bound = np.ones(n).T @ z\n",
    "assert(upper_bound >= lower_bound)"
   ]
  },
  {
   "cell_type": "code",
   "execution_count": 56,
   "id": "4b1e1cb7-d4b9-4d50-ba39-d7cae3f0eb2a",
   "metadata": {},
   "outputs": [
    {
     "data": {
      "text/plain": [
       "<matplotlib.image.AxesImage at 0x7f661b876920>"
      ]
     },
     "execution_count": 56,
     "metadata": {},
     "output_type": "execute_result"
    },
    {
     "data": {
      "image/png": "[encoded data removed]",
      "text/plain": [
       "<Figure size 640x480 with 1 Axes>"
      ]
     },
     "metadata": {},
     "output_type": "display_data"
    }
   ],
   "source": [
    "import matplotlib.pyplot as plt\n",
    "plt.imshow(A)"
   ]
  },
  {
   "cell_type": "code",
   "execution_count": null,
   "id": "55d9d4fd-9aba-461a-aeee-04df6387e084",
   "metadata": {},
   "outputs": [],
   "source": []
  }
 ],
 "metadata": {
  "kernelspec": {
   "display_name": "Python 3 (ipykernel)",
   "language": "python",
   "name": "python3"
  },
  "language_info": {
   "codemirror_mode": {
    "name": "ipython",
    "version": 3
   },
   "file_extension": ".py",
   "mimetype": "text/x-python",
   "name": "python",
   "nbconvert_exporter": "python",
   "pygments_lexer": "ipython3",
   "version": "3.10.6"
  }
 },
 "nbformat": 4,
 "nbformat_minor": 5
}
