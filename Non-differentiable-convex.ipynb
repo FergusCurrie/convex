{
 "cells": [
  {
   "cell_type": "markdown",
   "id": "1d895eed-0d9a-4b12-b82f-7de4696193fb",
   "metadata": {},
   "source": [
    "# Non-differentiable convex optmisation. \n",
    "\n",
    "Non-differentiable functions complicate things because we know longer have acces to gradient. However there is a nice generalisation of the gradient to non-differentiable functions called 'subgradient'. "
   ]
  },
  {
   "cell_type": "markdown",
   "id": "9fa91879-0adc-4d17-bc50-9d2dcaa9f3fa",
   "metadata": {},
   "source": [
    "First need a non-differntiable example - pieceiwse linear minimization: \n",
    "\n",
    "\\begin{align*}\n",
    "\\text{minimize } & max_{i=1,...,m}(a_i^Tx +b_i) \\\\\n",
    "\\end{align*}"
   ]
  },
  {
   "cell_type": "code",
   "execution_count": 23,
   "id": "4740df28-aa19-4297-a2c7-4e84b6e49cd6",
   "metadata": {},
   "outputs": [
    {
     "data": {
      "text/plain": [
       "-inf"
      ]
     },
     "execution_count": 23,
     "metadata": {},
     "output_type": "execute_result"
    }
   ],
   "source": [
    "import numpy as np\n",
    "import cvxpy as cp\n",
    "\n",
    "m = 100\n",
    "n = 20\n",
    "\n",
    "A = np.random.uniform(0,1,size=(m,n))\n",
    "b = np.random.uniform(0,1,size=(m))\n",
    "c = -A.T * np.random.uniform(0,1,size=(m))\n",
    "A.shape, b.shape, c.shape\n",
    "\n",
    "\n",
    "x = cp.Variable(n)\n",
    "obj = cp.Minimize(cp.max(A @ x + b))\n",
    "#constraints = [A @ x <= b]\n",
    "problem = cp.Problem(obj)\n",
    "problem.solve()"
   ]
  },
  {
   "cell_type": "code",
   "execution_count": null,
   "id": "2ee530ca-9aeb-4f28-a97e-d84dde082b57",
   "metadata": {},
   "outputs": [],
   "source": []
  },
  {
   "cell_type": "code",
   "execution_count": null,
   "id": "56c11d8b-83c9-4f39-93e8-cd8f5e84fda8",
   "metadata": {},
   "outputs": [],
   "source": []
  },
  {
   "cell_type": "code",
   "execution_count": null,
   "id": "7de3e3e7-fb9b-4ca2-ac2a-9f7d9af9dc57",
   "metadata": {},
   "outputs": [],
   "source": []
  },
  {
   "cell_type": "markdown",
   "id": "f9924f1f-e443-4eaa-abc0-e5c588d7c11d",
   "metadata": {},
   "source": [
    "## Example problem: PSD matrix completion : \n",
    "\n",
    "For alternating projections algo? "
   ]
  },
  {
   "cell_type": "code",
   "execution_count": 21,
   "id": "3883581c-da22-47df-89fb-cabd7781aad4",
   "metadata": {},
   "outputs": [],
   "source": [
    "# http://web.stanford.edu/class/ee364b/lectures/subgrad_method_matlab/subgrad_method_mtx_complete.m\n",
    "\n",
    "\n",
    "# random psd matrix\n",
    "n = 50 #  matrix size\n",
    "p = 500 # number missing entries \n",
    "A = np.random.normal(0,1,size=(n,n))\n",
    "X = A.T @ A\n",
    "\n",
    "# Random sparsity pattern. make sure sparity pattern is symmeteric and has ones on diag\n",
    "S = np.random.normal(0,1,size=(n,n))\n",
    "S = (S + S.T) + np.eye(n) > 1\n",
    "\n",
    "# zero missing elments\n",
    "X *= S\n",
    "I = np.nonzero(X)\n",
    "V = X[I]\n"
   ]
  },
  {
   "cell_type": "code",
   "execution_count": 18,
   "id": "539385c0-b851-4c12-8b18-0d007dbcfbe6",
   "metadata": {},
   "outputs": [],
   "source": []
  },
  {
   "cell_type": "code",
   "execution_count": null,
   "id": "74437944-44de-4b3d-bfe2-659cf8f660c7",
   "metadata": {},
   "outputs": [],
   "source": []
  }
 ],
 "metadata": {
  "kernelspec": {
   "display_name": "Python 3 (ipykernel)",
   "language": "python",
   "name": "python3"
  },
  "language_info": {
   "codemirror_mode": {
    "name": "ipython",
    "version": 3
   },
   "file_extension": ".py",
   "mimetype": "text/x-python",
   "name": "python",
   "nbconvert_exporter": "python",
   "pygments_lexer": "ipython3",
   "version": "3.10.6"
  }
 },
 "nbformat": 4,
 "nbformat_minor": 5
}
