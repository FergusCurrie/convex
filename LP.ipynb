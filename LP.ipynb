{
 "cells": [
  {
   "cell_type": "markdown",
   "id": "ae93fd30-43bf-44d1-8b9f-890758aaca5e",
   "metadata": {},
   "source": [
    "# Linear Program\n",
    "\n",
    "\n",
    "\\begin{align*}\n",
    "\\text{minimize } & a^T x \\\\\n",
    "\\text{s.t } & f_i(x) \\leq 0 \\\\\n",
    "& Ax = b\n",
    "\\end{align*}\n",
    "\n",
    "\n",
    "e.g.\n",
    "\n",
    "\\begin{align*}\n",
    "\\text{minimize } & x + 2y \\\\\n",
    "\\text{s.t } & 2x + y \\leq 20 \\\\\n",
    "& -4x + 5y \\leq -2 \\\\\n",
    "& -x + 2y \\geq -2  \\\\\n",
    "& -x + 5y = 15 \\\\\n",
    "& x \\geq 0 \\\\\n",
    "& y \\geq 0 \\\\\n",
    "\\end{align*}\n",
    "\n",
    "First solve with cvxpy"
   ]
  },
  {
   "cell_type": "code",
   "execution_count": 1,
   "id": "68d9e0ae-2583-40fa-9c26-698e8770ccbf",
   "metadata": {},
   "outputs": [
    {
     "data": {
      "text/plain": [
       "13.933333333661643"
      ]
     },
     "execution_count": 1,
     "metadata": {},
     "output_type": "execute_result"
    }
   ],
   "source": [
    "import cvxpy as cp\n",
    "\n",
    "x = cp.Variable(1)\n",
    "y = cp.Variable(1)\n",
    "\n",
    "\n",
    "obj = cp.Minimize(x + 2*y)\n",
    "\n",
    "constraints = [\n",
    "    2*x + y <= 20,\n",
    "    -1 * 4*x + 5 * y <= -1 * 2,\n",
    "    -1 * x + 2*y >= -1 * 1 * 2,\n",
    "    -1 * x + 5*y == 15,\n",
    "    x >= 0,\n",
    "    y >= 0\n",
    "]\n",
    "\n",
    "problem = cp.Problem(obj, constraints)\n",
    "problem.solve()"
   ]
  },
  {
   "cell_type": "markdown",
   "id": "fed6c82d-1a17-4e1a-8656-47c11be5597b",
   "metadata": {},
   "source": [
    "Okay that's nice but it's a disgustingly easy problem. I'm going to briefly look at generating a problem"
   ]
  },
  {
   "cell_type": "markdown",
   "id": "db26b58a-d210-490e-ab2f-2728d0cd6e05",
   "metadata": {},
   "source": [
    "LP n variables and m isntances"
   ]
  },
  {
   "cell_type": "code",
   "execution_count": 14,
   "id": "a52a2d53-327b-4439-a040-ede563027a5e",
   "metadata": {},
   "outputs": [
    {
     "name": "stdout",
     "output_type": "stream",
     "text": [
      "(100, 20) (100,) (20,)\n"
     ]
    },
    {
     "data": {
      "text/plain": [
       "-4.940601618741697"
      ]
     },
     "execution_count": 14,
     "metadata": {},
     "output_type": "execute_result"
    }
   ],
   "source": [
    "import numpy as np\n",
    "import cvxpy as cp\n",
    "\n",
    "m = 100 # num instances \n",
    "n = 20 # num variables\n",
    "\n",
    "A = np.random.normal(0,1,size=(m,n))\n",
    "b = np.random.uniform(0,1,size=(m))\n",
    "c = -A.T @ np.random.uniform(0,1,size=(m)) # so problem instance is bounded \n",
    "print(A.shape, b.shape, c.shape)\n",
    "\n",
    "\n",
    "\n",
    "\n",
    "x = cp.Variable(n)\n",
    "obj = cp.Minimize(c.T @ x)\n",
    "constraints = [A @ x <= b]\n",
    "problem = cp.Problem(obj, constraints)\n",
    "problem.solve()"
   ]
  },
  {
   "cell_type": "code",
   "execution_count": null,
   "id": "ebed13fb-8977-469e-b1fc-95b203e283ee",
   "metadata": {},
   "outputs": [],
   "source": []
  }
 ],
 "metadata": {
  "kernelspec": {
   "display_name": "Python 3 (ipykernel)",
   "language": "python",
   "name": "python3"
  },
  "language_info": {
   "codemirror_mode": {
    "name": "ipython",
    "version": 3
   },
   "file_extension": ".py",
   "mimetype": "text/x-python",
   "name": "python",
   "nbconvert_exporter": "python",
   "pygments_lexer": "ipython3",
   "version": "3.10.6"
  }
 },
 "nbformat": 4,
 "nbformat_minor": 5
}
