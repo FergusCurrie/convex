{
 "cells": [
  {
   "cell_type": "code",
   "execution_count": 23,
   "id": "7ce52710-f238-498c-b092-08270d1bd3ca",
   "metadata": {},
   "outputs": [
    {
     "data": {
      "text/plain": [
       "'/home/fergus/data/lps/adlittle.mps'"
      ]
     },
     "execution_count": 23,
     "metadata": {},
     "output_type": "execute_result"
    }
   ],
   "source": [
    "import cvxopt \n"
   ]
  },
  {
   "cell_type": "code",
   "execution_count": null,
   "id": "37e215ed-7cc0-461f-84d1-bbda5468c641",
   "metadata": {},
   "outputs": [],
   "source": []
  },
  {
   "cell_type": "markdown",
   "id": "ae93fd30-43bf-44d1-8b9f-890758aaca5e",
   "metadata": {},
   "source": [
    "# Linear Program\n",
    "\n",
    "\n",
    "\\begin{align*}\n",
    "\\text{minimize } & a^T x \\\\\n",
    "\\text{s.t } & f_i(x) \\leq 0 \\\\\n",
    "& Ax = b\n",
    "\\end{align*}\n",
    "\n",
    "\n",
    "e.g.\n",
    "\n",
    "\\begin{align*}\n",
    "\\text{minimize } & x + 2y \\\\\n",
    "\\text{s.t } & 2x + y \\leq 20 \\\\\n",
    "& -4x + 5y \\leq -2 \\\\\n",
    "& -x + 2y \\geq -2  \\\\\n",
    "& -x + 5y = 15 \\\\\n",
    "& x \\geq 0 \\\\\n",
    "& y \\geq 0 \\\\\n",
    "\\end{align*}\n",
    "\n",
    "First solve with cvxpy"
   ]
  },
  {
   "cell_type": "code",
   "execution_count": 82,
   "id": "68d9e0ae-2583-40fa-9c26-698e8770ccbf",
   "metadata": {},
   "outputs": [
    {
     "data": {
      "text/plain": [
       "13.933333333661643"
      ]
     },
     "execution_count": 82,
     "metadata": {},
     "output_type": "execute_result"
    }
   ],
   "source": [
    "import cvxpy as cp\n",
    "\n",
    "x = cp.Variable(1)\n",
    "y = cp.Variable(1)\n",
    "\n",
    "\n",
    "obj = cp.Minimize(x + 2*y)\n",
    "\n",
    "constraints = [\n",
    "    2*x + y <= 20,\n",
    "    -1 * 4*x + 5 * y <= -1 * 2,\n",
    "    -1 * x + 2*y >= -1 * 1 * 2,\n",
    "    -1 * x + 5*y == 15,\n",
    "    x >= 0,\n",
    "    y >= 0\n",
    "]\n",
    "\n",
    "problem = cp.Problem(obj, constraints)\n",
    "problem.solve()"
   ]
  },
  {
   "cell_type": "markdown",
   "id": "e62ca8be-4bce-4c8b-88ec-5be71bbf10e5",
   "metadata": {},
   "source": [
    "localisation method "
   ]
  },
  {
   "cell_type": "code",
   "execution_count": 87,
   "id": "cf07634f-da59-4511-bc15-dafe0c8b5bb0",
   "metadata": {},
   "outputs": [
    {
     "data": {
      "text/plain": [
       "array([8807.82976676, 6480.28154228])"
      ]
     },
     "execution_count": 87,
     "metadata": {},
     "output_type": "execute_result"
    }
   ],
   "source": [
    "x = np.random.uniform(0,10000, size=(2))\n"
   ]
  },
  {
   "cell_type": "code",
   "execution_count": null,
   "id": "24e9a4cb-f7ad-40ee-9fa9-917a42a42de2",
   "metadata": {},
   "outputs": [],
   "source": []
  }
 ],
 "metadata": {
  "kernelspec": {
   "display_name": "Python 3 (ipykernel)",
   "language": "python",
   "name": "python3"
  },
  "language_info": {
   "codemirror_mode": {
    "name": "ipython",
    "version": 3
   },
   "file_extension": ".py",
   "mimetype": "text/x-python",
   "name": "python",
   "nbconvert_exporter": "python",
   "pygments_lexer": "ipython3",
   "version": "3.10.6"
  }
 },
 "nbformat": 4,
 "nbformat_minor": 5
}
