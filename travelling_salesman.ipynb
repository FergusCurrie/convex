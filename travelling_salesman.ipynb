{
 "cells": [
  {
   "cell_type": "markdown",
   "id": "5ba190dd-1f31-4a30-88fa-7d631031b5a0",
   "metadata": {},
   "source": [
    "# Travelling sales problem is non-convex.\n",
    "\n",
    "\\begin{align*}\n",
    "\\text{min} & \\langle C, X \\rangle_F \\\\\n",
    "\\text{s.t } & \\Sigma_{i=1,j \\neq i} X_{ij} =1 \\forall i  \\in [1,n] \\\\\n",
    "& \\Sigma_{j=1,j \\neq i} X_{ij} =1 \\forall j  \\in [1,n] \\\\\n",
    "& u_i \\in R^{+} \\\\\n",
    "& u_i + X_{ij} \\leq u_j + (n -1)(1 - X_{ij} \\forall (2 \\leq j \\leq n)\n",
    "\\end{align*}\n",
    "\n",
    "https://co-enzyme.fr/blog/traveling-salesman-problem-tsp-in-cplex-opl-with-miller-tucker-zemlin-mtz-formulation/"
   ]
  },
  {
   "cell_type": "code",
   "execution_count": null,
   "id": "3c68dd5c-f1cf-4ae5-be5b-684bea008221",
   "metadata": {},
   "outputs": [],
   "source": []
  }
 ],
 "metadata": {
  "kernelspec": {
   "display_name": "Python 3 (ipykernel)",
   "language": "python",
   "name": "python3"
  },
  "language_info": {
   "codemirror_mode": {
    "name": "ipython",
    "version": 3
   },
   "file_extension": ".py",
   "mimetype": "text/x-python",
   "name": "python",
   "nbconvert_exporter": "python",
   "pygments_lexer": "ipython3",
   "version": "3.10.6"
  }
 },
 "nbformat": 4,
 "nbformat_minor": 5
}
