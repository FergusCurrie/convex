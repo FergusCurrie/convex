{
 "cells": [
  {
   "cell_type": "markdown",
   "id": "19e7c771-e19c-470b-af8a-72ec366a48b0",
   "metadata": {},
   "source": [
    "# Cutting plane method aka localisatoin method\n",
    "\n",
    "Really an alternative to subgradient method. Generally a bit more expensive but in some cases (which?) can work better. Can handle differentiable and non-differentiable problems providing the oracle is implemented to return the subgradient rather than gradient. "
   ]
  },
  {
   "cell_type": "markdown",
   "id": "a03e5442-ea43-40a1-b0c3-1c6ac7b5a70a",
   "metadata": {},
   "source": [
    "Begin by initalising an LP and solving with CVXPY "
   ]
  },
  {
   "cell_type": "code",
   "execution_count": 1,
   "id": "8fcf45d9-46c0-426d-aca6-8a893738f31b",
   "metadata": {},
   "outputs": [],
   "source": [
    "import numpy as np\n",
    "import cvxpy as cp\n",
    "import matplotlib.pyplot as plt \n",
    "\n",
    "def random_piecewise_affine(m=100, n=20):\n",
    "    \"\"\"\n",
    "    f(x) = max(a_1^T x + b_1, ... , a_m^T x + b_m)\n",
    "    convex, non-differntiable piecewise affine function\n",
    "    \"\"\"\n",
    "    A = np.random.normal(0, 1, size=(m, n))\n",
    "    b = np.random.uniform(0, 1, size=(m))\n",
    "    c = -A.T @ np.random.uniform(0, 1, size=(m)) \n",
    "    return A, b, c\n",
    "\n",
    "\n",
    "\n",
    "# ? not actually doing what wnat \n",
    "# np.random.seed(1)\n",
    "\n",
    "# m=100\n",
    "# n=20\n",
    "\n",
    "# A, b, c = random_piecewise_affine()\n",
    "\n",
    "# x = cp.Variable(n)\n",
    "# obj = cp.Minimize(cp.max(A @ x - b))\n",
    "# # constraints = [A @ x <= b]\n",
    "# problem = cp.Problem(obj)\n",
    "# problem.solve()\n",
    "# optimal_point = x.value\n",
    "# optimal_point\n",
    "# problem.value"
   ]
  },
  {
   "cell_type": "markdown",
   "id": "fe611e0e-cd7a-4d09-934c-74e20786114a",
   "metadata": {},
   "source": [
    "Define the subgradient function"
   ]
  },
  {
   "cell_type": "markdown",
   "id": "db4c6375-911e-4ed8-b32a-fe3570faf649",
   "metadata": {},
   "source": [
    "## Max volume ellipsoid\n",
    "\n",
    "Optimisation problem to find largest ellipsoid contained in a polyhedron defined by a number of hyper planes"
   ]
  },
  {
   "cell_type": "code",
   "execution_count": 4,
   "id": "3fd8d4fb-662b-4d82-b341-366144f7b2b6",
   "metadata": {},
   "outputs": [],
   "source": [
    "def plot_hyperplane(ax, a, b):\n",
    "    \"\"\"\n",
    "    doesn't offset the hyperplane from the origin\n",
    "    \"\"\"\n",
    "    ax.arrow(\n",
    "        0,\n",
    "        0,\n",
    "        *a,\n",
    "        head_width=0.2,\n",
    "        head_length=0.2,\n",
    "        length_includes_head=True,\n",
    "        color=\"red\"\n",
    "    )\n",
    "    x1 = np.linspace(-5, 5, 10)\n",
    "    x2 = (b - x1 * a[0]) / a[1]\n",
    "    ax.plot(x1, x2)\n",
    "    ax.set_xlim([-5, 5])\n",
    "    ax.set_ylim([-5, 5])\n",
    "    ax.set_xlabel(\"X1\")\n",
    "    ax.set_ylabel(\"X2\")\n",
    "    ax.set_aspect(\"equal\")\n",
    "    ax.grid()\n",
    "\n",
    "    \n",
    "def maximum_volume_ellipsoid(a, f):\n",
    "    \"\"\"a,f define polyhedron: {z | a.T @ z <= f}\n",
    "    Given these parameters, find the largest contained polyhedron. (size proportional to det B)\n",
    "\n",
    "    Args:\n",
    "        a (list): list of normal vectors\n",
    "        f (list): list of values \n",
    "    \"\"\"\n",
    "    a = np.array(a)\n",
    "    n = len(a[0])\n",
    "    B = cp.Variable((n,n), PSD=True)\n",
    "    d = cp.Variable(n)\n",
    "\n",
    "    contraints = []\n",
    "    for i in range(len(a)):\n",
    "        contraints.append(cp.norm(B @ a[i], 2)  + a[i].T @ d <= f[i]) # + polyhedron[i].T @ d \n",
    "        \n",
    "    \n",
    "    obj = cp.Minimize(-cp.log_det(B))\n",
    "    problem = cp.Problem(obj, contraints)\n",
    "    return problem.solve(), B.value, d.value\n",
    "    \n",
    "    # B defines the ellisoid, take the center\n",
    "\n",
    "    \n",
    "    "
   ]
  },
  {
   "cell_type": "code",
   "execution_count": 5,
   "id": "76c3caec-4202-4988-8b1e-3cce5f5d40fd",
   "metadata": {},
   "outputs": [
    {
     "data": {
      "text/plain": [
       "Text(0.5, 1.0, 'largest ellipsoid in polyhedron')"
      ]
     },
     "execution_count": 5,
     "metadata": {},
     "output_type": "execute_result"
    },
    {
     "data": {
      "image/png": "[encoded data removed]",
      "text/plain": [
       "<Figure size 640x480 with 1 Axes>"
      ]
     },
     "metadata": {},
     "output_type": "display_data"
    }
   ],
   "source": [
    "# Init test problem \n",
    "A = [[1,4], \n",
    "     [3,-4], \n",
    "     [-4,3]]\n",
    "b = [4,3, 3]\n",
    "\n",
    "# RUn max volume ellpsoid program\n",
    "value, B, d = maximum_volume_ellipsoid(A, b)\n",
    "\n",
    "# plot hyperplanes defining polyhedron, then ellipsoid\n",
    "u = np.random.randn(2, 1000) \n",
    "u = u / np.linalg.norm(u, 2, axis=0)\n",
    "u_ = (B @ u) + np.array([d for _ in range(1000)]).T\n",
    "fig, ax = plt.subplots()\n",
    "ax.scatter(*u_ , s=1)\n",
    "for a_, b_ in zip(A,b):\n",
    "    plot_hyperplane(ax, a_, b_)\n",
    "ax.set_title('largest ellipsoid in polyhedron')"
   ]
  },
  {
   "cell_type": "code",
   "execution_count": null,
   "id": "40146c35-a22e-4ad7-8393-fc1bbcc34f51",
   "metadata": {},
   "outputs": [],
   "source": []
  },
  {
   "cell_type": "markdown",
   "id": "d897c4c7-f482-434d-9a6f-f70a1513680d",
   "metadata": {},
   "source": [
    "## Cutting plane w max ellipsoid"
   ]
  },
  {
   "cell_type": "code",
   "execution_count": 6,
   "id": "ee298704-162e-4af5-8122-3b9a3273b99e",
   "metadata": {},
   "outputs": [
    {
     "name": "stderr",
     "output_type": "stream",
     "text": [
      "No GPU/TPU found, falling back to CPU. (Set TF_CPP_MIN_LOG_LEVEL=0 and rerun for more info.)\n"
     ]
    },
    {
     "name": "stdout",
     "output_type": "stream",
     "text": [
      "0\n",
      "1\n",
      "2\n"
     ]
    },
    {
     "name": "stderr",
     "output_type": "stream",
     "text": [
      "/home/fergus/.local/lib/python3.10/site-packages/cvxpy/problems/problem.py:1385: UserWarning: Solution may be inaccurate. Try another solver, adjusting the solver settings, or solve with verbose=True for more information.\n",
      "  warnings.warn(\n"
     ]
    }
   ],
   "source": [
    "# linear const : [a in Rn, b in Rn] \n",
    "\n",
    "import jax \n",
    "\n",
    "def objective(x_k):\n",
    "    return np.max(A @ x_k - b)\n",
    "\n",
    "objective_grad = jax.grad(objective)\n",
    "\n",
    "# setup\n",
    "m=30\n",
    "n=2\n",
    "A, b, c = random_piecewise_affine(m,n)\n",
    "polyhedron_a = [] # list of linear constraints. \n",
    "polyhedron_f = []\n",
    "k = 0 \n",
    "history = []\n",
    "\n",
    "\n",
    "for i in range(3):\n",
    "    print(i)\n",
    "    # choose a point x(k+1) in polydreon. random point for first step\n",
    "    if polyhedron_a != []:\n",
    "        value, B, d = maximum_volume_ellipsoid(polyhedron_a, polyhedron_f)\n",
    "        x_k1 = d\n",
    "    else:\n",
    "        x_k1 = np.random.rand(n)\n",
    "    \n",
    "    history.append(objective(x_k1))\n",
    "    \n",
    "    # query the cutting-plane oracle \n",
    "    subgradient = objective_grad(x_k1)\n",
    "    \n",
    "    polyhedron_a.append(subgradient)\n",
    "    polyhedron_f.append(subgradient @ x_k1) # \n",
    "        \n",
    "         \n",
    "        \n",
    "    k+=1 "
   ]
  },
  {
   "cell_type": "code",
   "execution_count": 8,
   "id": "2f1e0b45-e538-4bc3-8ff2-393adc3e82e0",
   "metadata": {},
   "outputs": [
    {
     "data": {
      "image/png": "[encoded data removed]",
      "text/plain": [
       "<Figure size 640x480 with 1 Axes>"
      ]
     },
     "metadata": {},
     "output_type": "display_data"
    }
   ],
   "source": [
    "fig, ax = plt.subplots()\n",
    "for a_, b_ in zip(polyhedron_a,polyhedron_f):\n",
    "    plot_hyperplane(ax, a_, b_)"
   ]
  },
  {
   "cell_type": "code",
   "execution_count": null,
   "id": "1e09bd0a-1456-446a-a5a5-e52a393836f8",
   "metadata": {},
   "outputs": [],
   "source": []
  }
 ],
 "metadata": {
  "kernelspec": {
   "display_name": "Python 3 (ipykernel)",
   "language": "python",
   "name": "python3"
  },
  "language_info": {
   "codemirror_mode": {
    "name": "ipython",
    "version": 3
   },
   "file_extension": ".py",
   "mimetype": "text/x-python",
   "name": "python",
   "nbconvert_exporter": "python",
   "pygments_lexer": "ipython3",
   "version": "3.10.6"
  }
 },
 "nbformat": 4,
 "nbformat_minor": 5
}
