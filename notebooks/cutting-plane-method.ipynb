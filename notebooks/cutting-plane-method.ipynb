{
 "cells": [
  {
   "cell_type": "markdown",
   "id": "19e7c771-e19c-470b-af8a-72ec366a48b0",
   "metadata": {},
   "source": [
    "# Cutting plane method aka localisatoin method\n",
    "\n",
    "Really an alternative to subgradient method. Generally a bit more expensive but in some cases (which?) can work better. Can handle differentiable and non-differentiable problems providing the oracle is implemented to return the subgradient rather than gradient. "
   ]
  },
  {
   "cell_type": "markdown",
   "id": "a03e5442-ea43-40a1-b0c3-1c6ac7b5a70a",
   "metadata": {},
   "source": [
    "Begin by initalising an LP and solving with CVXPY "
   ]
  },
  {
   "cell_type": "code",
   "execution_count": 460,
   "id": "8fcf45d9-46c0-426d-aca6-8a893738f31b",
   "metadata": {},
   "outputs": [],
   "source": [
    "import numpy as np\n",
    "import cvxpy as cp\n",
    "\n",
    "def random_piecewise_affine(m=100, n=20):\n",
    "    \"\"\"\n",
    "    f(x) = max(a_1^T x + b_1, ... , a_m^T x + b_m)\n",
    "    convex, non-differntiable piecewise affine function\n",
    "    \"\"\"\n",
    "    A = np.random.normal(0, 1, size=(m, n))\n",
    "    b = np.random.uniform(0, 1, size=(m))\n",
    "    c = -A.T @ np.random.uniform(0, 1, size=(m)) \n",
    "    return A, b, c\n",
    "\n",
    "\n",
    "\n",
    "# ? not actually doing what wnat \n",
    "# np.random.seed(1)\n",
    "\n",
    "# m=100\n",
    "# n=20\n",
    "\n",
    "# A, b, c = random_piecewise_affine()\n",
    "\n",
    "# x = cp.Variable(n)\n",
    "# obj = cp.Minimize(cp.max(A @ x - b))\n",
    "# # constraints = [A @ x <= b]\n",
    "# problem = cp.Problem(obj)\n",
    "# problem.solve()\n",
    "# optimal_point = x.value\n",
    "# optimal_point\n",
    "# problem.value"
   ]
  },
  {
   "cell_type": "markdown",
   "id": "fe611e0e-cd7a-4d09-934c-74e20786114a",
   "metadata": {},
   "source": [
    "Define the subgradient function"
   ]
  },
  {
   "cell_type": "markdown",
   "id": "db4c6375-911e-4ed8-b32a-fe3570faf649",
   "metadata": {},
   "source": [
    "## Max volume ellipsoid\n",
    "\n",
    "Optimisation problem to find largest ellipsoid contained in a polyhedron defined by a number of hyper planes"
   ]
  },
  {
   "cell_type": "code",
   "execution_count": 455,
   "id": "3fd8d4fb-662b-4d82-b341-366144f7b2b6",
   "metadata": {},
   "outputs": [],
   "source": [
    "\n",
    "\n",
    "    \n",
    "def maximum_volume_ellipsoid(polyhedron):\n",
    "    '''\n",
    "    Given polyhedron, find the maximum volume ellipsoid. This is \n",
    "    the largest ellipsoid contained within the polyhedron. \n",
    "    \n",
    "    \n",
    "    \n",
    "    Size of ellipsoid is proportional to det B \n",
    "    \n",
    "    the square roots of the eigenvalues of B are the lengths of the semi-axes of the ellipsoid \n",
    "    '''\n",
    "    polyhedron = np.array(polyhedron)\n",
    "    n = 20 # polyhedron.shape[1]\n",
    "    B = cp.Variable((n,n), PSD=True)\n",
    "    d = cp.Variable(n)\n",
    "\n",
    "    contraints = []\n",
    "    for i in range(len(polyhedron)):\n",
    "        contraints.append(cp.norm(B @ polyhedron[i], 2)  + polyhedron[i].T @ d <= b[i]) # + polyhedron[i].T @ d \n",
    "        \n",
    "    \n",
    "    obj = cp.Minimize(-cp.log_det(B))\n",
    "    problem = cp.Problem(obj, contraints)\n",
    "    return problem.solve(), B.value, d.value\n",
    "    \n",
    "    # B defines the ellisoid, take the center\n",
    "\n",
    "    \n",
    "    "
   ]
  },
  {
   "cell_type": "code",
   "execution_count": 431,
   "id": "76c3caec-4202-4988-8b1e-3cce5f5d40fd",
   "metadata": {},
   "outputs": [
    {
     "data": {
      "text/plain": [
       "Text(0.5, 1.0, 'largest ellipsoid in polyhedron')"
      ]
     },
     "execution_count": 431,
     "metadata": {},
     "output_type": "execute_result"
    },
    {
     "data": {
      "image/png": "[encoded data removed]",
      "text/plain": [
       "<Figure size 640x480 with 1 Axes>"
      ]
     },
     "metadata": {},
     "output_type": "display_data"
    }
   ],
   "source": [
    "# Init test problem \n",
    "A = [[1,4], \n",
    "     [3,-4], \n",
    "     [-4,3]]\n",
    "b = [1,3, 3]\n",
    "\n",
    "# RUn max volume ellpsoid program\n",
    "value, B, d = maximum_volume_ellipsoid(A)\n",
    "\n",
    "# plot hyperplanes defining polyhedron, then ellipsoid\n",
    "u = np.random.randn(2, 1000) \n",
    "u = u / np.linalg.norm(u, 2, axis=0)\n",
    "u_ = (B @ u) + np.array([d for _ in range(1000)]).T\n",
    "fig, ax = plt.subplots()\n",
    "ax.scatter(*u_ , s=1)\n",
    "for a_, b_ in zip(A,b):\n",
    "    plot_hyperplane(ax, a_, b_)\n",
    "ax.set_title('largest ellipsoid in polyhedron')"
   ]
  },
  {
   "cell_type": "markdown",
   "id": "d897c4c7-f482-434d-9a6f-f70a1513680d",
   "metadata": {},
   "source": [
    "## Cutting plane w max ellipsoid"
   ]
  },
  {
   "cell_type": "code",
   "execution_count": 466,
   "id": "ee298704-162e-4af5-8122-3b9a3273b99e",
   "metadata": {},
   "outputs": [
    {
     "name": "stdout",
     "output_type": "stream",
     "text": [
      "0\n",
      "1\n",
      "2\n",
      "3\n",
      "4\n",
      "5\n",
      "6\n",
      "7\n",
      "8\n",
      "9\n",
      "10\n",
      "11\n",
      "12\n",
      "13\n",
      "14\n",
      "15\n",
      "16\n",
      "17\n",
      "18\n",
      "19\n",
      "20\n",
      "21\n",
      "22\n",
      "23\n",
      "24\n",
      "25\n",
      "26\n",
      "27\n",
      "28\n",
      "29\n",
      "30\n",
      "31\n",
      "32\n",
      "33\n",
      "34\n",
      "35\n",
      "36\n",
      "37\n",
      "38\n",
      "39\n",
      "40\n",
      "41\n",
      "42\n",
      "43\n",
      "44\n",
      "45\n",
      "46\n",
      "47\n",
      "48\n",
      "49\n"
     ]
    }
   ],
   "source": [
    "# linear const : [a in Rn, b in Rn] \n",
    "\n",
    "import jax \n",
    "\n",
    "def objective(x_k):\n",
    "    return np.max(A @ x_k - b)\n",
    "    \n",
    "    \n",
    "def cutting_plane_oracle(x):\n",
    "    subgradient = objective_grad(x)\n",
    "    return False, subgradient \n",
    "    \n",
    "    if x == optimal_point:\n",
    "        return True, None \n",
    "    else:\n",
    "        # evalueate sub gradient \n",
    "        subgradient = objective_grad(x)\n",
    "        return False, subgradient \n",
    "\n",
    "objective_grad = jax.grad(objective)\n",
    "\n",
    "\n",
    "m=100\n",
    "n=20\n",
    "\n",
    "A, b, c = random_piecewise_affine()\n",
    "\n",
    "\n",
    "\n",
    "polyhedron = [] # list of linear constraints. \n",
    "\n",
    "\n",
    "k = 0 \n",
    "history = []\n",
    "for i in range(50):\n",
    "    print(i)\n",
    "    # choose a point x(k+1) in polydreon\n",
    "    if polyhedron != []:\n",
    "        value, B, d = maximum_volume_ellipsoid(polyhedron)\n",
    "        x_k1 = d\n",
    "    else:\n",
    "        x_k1 = np.zeros(n)\n",
    "    \n",
    "    history.append(objective(x_k1))\n",
    "    \n",
    "    # query the cutting-plane oracle \n",
    "    stop, subgradient = cutting_plane_oracle(x_k1)\n",
    "    \n",
    "    if stop:\n",
    "        break\n",
    "    else:\n",
    "        polyhedron.append(subgradient)\n",
    "        \n",
    "    k+=1 "
   ]
  },
  {
   "cell_type": "code",
   "execution_count": 467,
   "id": "88c018f8-5a59-411b-9ae8-bd9965e234ea",
   "metadata": {},
   "outputs": [
    {
     "ename": "ValueError",
     "evalue": "x and y must have same first dimension, but have shapes (20,) and (50,)",
     "output_type": "error",
     "traceback": [
      "\u001b[0;31m---------------------------------------------------------------------------\u001b[0m",
      "\u001b[0;31mValueError\u001b[0m                                Traceback (most recent call last)",
      "Cell \u001b[0;32mIn[467], line 1\u001b[0m\n\u001b[0;32m----> 1\u001b[0m \u001b[43mplt\u001b[49m\u001b[38;5;241;43m.\u001b[39;49m\u001b[43mplot\u001b[49m\u001b[43m(\u001b[49m\u001b[43mnp\u001b[49m\u001b[38;5;241;43m.\u001b[39;49m\u001b[43marange\u001b[49m\u001b[43m(\u001b[49m\u001b[38;5;241;43m20\u001b[39;49m\u001b[43m)\u001b[49m\u001b[43m,\u001b[49m\u001b[43m \u001b[49m\u001b[43mhistory\u001b[49m\u001b[43m)\u001b[49m\n",
      "File \u001b[0;32m~/.local/lib/python3.10/site-packages/matplotlib/pyplot.py:2740\u001b[0m, in \u001b[0;36mplot\u001b[0;34m(scalex, scaley, data, *args, **kwargs)\u001b[0m\n\u001b[1;32m   2738\u001b[0m \u001b[38;5;129m@_copy_docstring_and_deprecators\u001b[39m(Axes\u001b[38;5;241m.\u001b[39mplot)\n\u001b[1;32m   2739\u001b[0m \u001b[38;5;28;01mdef\u001b[39;00m \u001b[38;5;21mplot\u001b[39m(\u001b[38;5;241m*\u001b[39margs, scalex\u001b[38;5;241m=\u001b[39m\u001b[38;5;28;01mTrue\u001b[39;00m, scaley\u001b[38;5;241m=\u001b[39m\u001b[38;5;28;01mTrue\u001b[39;00m, data\u001b[38;5;241m=\u001b[39m\u001b[38;5;28;01mNone\u001b[39;00m, \u001b[38;5;241m*\u001b[39m\u001b[38;5;241m*\u001b[39mkwargs):\n\u001b[0;32m-> 2740\u001b[0m     \u001b[38;5;28;01mreturn\u001b[39;00m \u001b[43mgca\u001b[49m\u001b[43m(\u001b[49m\u001b[43m)\u001b[49m\u001b[38;5;241;43m.\u001b[39;49m\u001b[43mplot\u001b[49m\u001b[43m(\u001b[49m\n\u001b[1;32m   2741\u001b[0m \u001b[43m        \u001b[49m\u001b[38;5;241;43m*\u001b[39;49m\u001b[43margs\u001b[49m\u001b[43m,\u001b[49m\u001b[43m \u001b[49m\u001b[43mscalex\u001b[49m\u001b[38;5;241;43m=\u001b[39;49m\u001b[43mscalex\u001b[49m\u001b[43m,\u001b[49m\u001b[43m \u001b[49m\u001b[43mscaley\u001b[49m\u001b[38;5;241;43m=\u001b[39;49m\u001b[43mscaley\u001b[49m\u001b[43m,\u001b[49m\n\u001b[1;32m   2742\u001b[0m \u001b[43m        \u001b[49m\u001b[38;5;241;43m*\u001b[39;49m\u001b[38;5;241;43m*\u001b[39;49m\u001b[43m(\u001b[49m\u001b[43m{\u001b[49m\u001b[38;5;124;43m\"\u001b[39;49m\u001b[38;5;124;43mdata\u001b[39;49m\u001b[38;5;124;43m\"\u001b[39;49m\u001b[43m:\u001b[49m\u001b[43m \u001b[49m\u001b[43mdata\u001b[49m\u001b[43m}\u001b[49m\u001b[43m \u001b[49m\u001b[38;5;28;43;01mif\u001b[39;49;00m\u001b[43m \u001b[49m\u001b[43mdata\u001b[49m\u001b[43m \u001b[49m\u001b[38;5;129;43;01mis\u001b[39;49;00m\u001b[43m \u001b[49m\u001b[38;5;129;43;01mnot\u001b[39;49;00m\u001b[43m \u001b[49m\u001b[38;5;28;43;01mNone\u001b[39;49;00m\u001b[43m \u001b[49m\u001b[38;5;28;43;01melse\u001b[39;49;00m\u001b[43m \u001b[49m\u001b[43m{\u001b[49m\u001b[43m}\u001b[49m\u001b[43m)\u001b[49m\u001b[43m,\u001b[49m\u001b[43m \u001b[49m\u001b[38;5;241;43m*\u001b[39;49m\u001b[38;5;241;43m*\u001b[39;49m\u001b[43mkwargs\u001b[49m\u001b[43m)\u001b[49m\n",
      "File \u001b[0;32m~/.local/lib/python3.10/site-packages/matplotlib/axes/_axes.py:1662\u001b[0m, in \u001b[0;36mAxes.plot\u001b[0;34m(self, scalex, scaley, data, *args, **kwargs)\u001b[0m\n\u001b[1;32m   1419\u001b[0m \u001b[38;5;124;03m\"\"\"\u001b[39;00m\n\u001b[1;32m   1420\u001b[0m \u001b[38;5;124;03mPlot y versus x as lines and/or markers.\u001b[39;00m\n\u001b[1;32m   1421\u001b[0m \n\u001b[0;32m   (...)\u001b[0m\n\u001b[1;32m   1659\u001b[0m \u001b[38;5;124;03m(``'green'``) or hex strings (``'#008000'``).\u001b[39;00m\n\u001b[1;32m   1660\u001b[0m \u001b[38;5;124;03m\"\"\"\u001b[39;00m\n\u001b[1;32m   1661\u001b[0m kwargs \u001b[38;5;241m=\u001b[39m cbook\u001b[38;5;241m.\u001b[39mnormalize_kwargs(kwargs, mlines\u001b[38;5;241m.\u001b[39mLine2D)\n\u001b[0;32m-> 1662\u001b[0m lines \u001b[38;5;241m=\u001b[39m [\u001b[38;5;241m*\u001b[39m\u001b[38;5;28mself\u001b[39m\u001b[38;5;241m.\u001b[39m_get_lines(\u001b[38;5;241m*\u001b[39margs, data\u001b[38;5;241m=\u001b[39mdata, \u001b[38;5;241m*\u001b[39m\u001b[38;5;241m*\u001b[39mkwargs)]\n\u001b[1;32m   1663\u001b[0m \u001b[38;5;28;01mfor\u001b[39;00m line \u001b[38;5;129;01min\u001b[39;00m lines:\n\u001b[1;32m   1664\u001b[0m     \u001b[38;5;28mself\u001b[39m\u001b[38;5;241m.\u001b[39madd_line(line)\n",
      "File \u001b[0;32m~/.local/lib/python3.10/site-packages/matplotlib/axes/_base.py:311\u001b[0m, in \u001b[0;36m_process_plot_var_args.__call__\u001b[0;34m(self, data, *args, **kwargs)\u001b[0m\n\u001b[1;32m    309\u001b[0m     this \u001b[38;5;241m+\u001b[39m\u001b[38;5;241m=\u001b[39m args[\u001b[38;5;241m0\u001b[39m],\n\u001b[1;32m    310\u001b[0m     args \u001b[38;5;241m=\u001b[39m args[\u001b[38;5;241m1\u001b[39m:]\n\u001b[0;32m--> 311\u001b[0m \u001b[38;5;28;01myield from\u001b[39;00m \u001b[38;5;28;43mself\u001b[39;49m\u001b[38;5;241;43m.\u001b[39;49m\u001b[43m_plot_args\u001b[49m\u001b[43m(\u001b[49m\n\u001b[1;32m    312\u001b[0m \u001b[43m    \u001b[49m\u001b[43mthis\u001b[49m\u001b[43m,\u001b[49m\u001b[43m \u001b[49m\u001b[43mkwargs\u001b[49m\u001b[43m,\u001b[49m\u001b[43m \u001b[49m\u001b[43mambiguous_fmt_datakey\u001b[49m\u001b[38;5;241;43m=\u001b[39;49m\u001b[43mambiguous_fmt_datakey\u001b[49m\u001b[43m)\u001b[49m\n",
      "File \u001b[0;32m~/.local/lib/python3.10/site-packages/matplotlib/axes/_base.py:504\u001b[0m, in \u001b[0;36m_process_plot_var_args._plot_args\u001b[0;34m(self, tup, kwargs, return_kwargs, ambiguous_fmt_datakey)\u001b[0m\n\u001b[1;32m    501\u001b[0m     \u001b[38;5;28mself\u001b[39m\u001b[38;5;241m.\u001b[39maxes\u001b[38;5;241m.\u001b[39myaxis\u001b[38;5;241m.\u001b[39mupdate_units(y)\n\u001b[1;32m    503\u001b[0m \u001b[38;5;28;01mif\u001b[39;00m x\u001b[38;5;241m.\u001b[39mshape[\u001b[38;5;241m0\u001b[39m] \u001b[38;5;241m!=\u001b[39m y\u001b[38;5;241m.\u001b[39mshape[\u001b[38;5;241m0\u001b[39m]:\n\u001b[0;32m--> 504\u001b[0m     \u001b[38;5;28;01mraise\u001b[39;00m \u001b[38;5;167;01mValueError\u001b[39;00m(\u001b[38;5;124mf\u001b[39m\u001b[38;5;124m\"\u001b[39m\u001b[38;5;124mx and y must have same first dimension, but \u001b[39m\u001b[38;5;124m\"\u001b[39m\n\u001b[1;32m    505\u001b[0m                      \u001b[38;5;124mf\u001b[39m\u001b[38;5;124m\"\u001b[39m\u001b[38;5;124mhave shapes \u001b[39m\u001b[38;5;132;01m{\u001b[39;00mx\u001b[38;5;241m.\u001b[39mshape\u001b[38;5;132;01m}\u001b[39;00m\u001b[38;5;124m and \u001b[39m\u001b[38;5;132;01m{\u001b[39;00my\u001b[38;5;241m.\u001b[39mshape\u001b[38;5;132;01m}\u001b[39;00m\u001b[38;5;124m\"\u001b[39m)\n\u001b[1;32m    506\u001b[0m \u001b[38;5;28;01mif\u001b[39;00m x\u001b[38;5;241m.\u001b[39mndim \u001b[38;5;241m>\u001b[39m \u001b[38;5;241m2\u001b[39m \u001b[38;5;129;01mor\u001b[39;00m y\u001b[38;5;241m.\u001b[39mndim \u001b[38;5;241m>\u001b[39m \u001b[38;5;241m2\u001b[39m:\n\u001b[1;32m    507\u001b[0m     \u001b[38;5;28;01mraise\u001b[39;00m \u001b[38;5;167;01mValueError\u001b[39;00m(\u001b[38;5;124mf\u001b[39m\u001b[38;5;124m\"\u001b[39m\u001b[38;5;124mx and y can be no greater than 2D, but have \u001b[39m\u001b[38;5;124m\"\u001b[39m\n\u001b[1;32m    508\u001b[0m                      \u001b[38;5;124mf\u001b[39m\u001b[38;5;124m\"\u001b[39m\u001b[38;5;124mshapes \u001b[39m\u001b[38;5;132;01m{\u001b[39;00mx\u001b[38;5;241m.\u001b[39mshape\u001b[38;5;132;01m}\u001b[39;00m\u001b[38;5;124m and \u001b[39m\u001b[38;5;132;01m{\u001b[39;00my\u001b[38;5;241m.\u001b[39mshape\u001b[38;5;132;01m}\u001b[39;00m\u001b[38;5;124m\"\u001b[39m)\n",
      "\u001b[0;31mValueError\u001b[0m: x and y must have same first dimension, but have shapes (20,) and (50,)"
     ]
    },
    {
     "data": {
      "image/png": "[encoded data removed]",
      "text/plain": [
       "<Figure size 640x480 with 1 Axes>"
      ]
     },
     "metadata": {},
     "output_type": "display_data"
    }
   ],
   "source": [
    "plt.plot(np.arange(20), history)"
   ]
  },
  {
   "cell_type": "code",
   "execution_count": null,
   "id": "2e2ea533-7db1-4b5a-a742-14c308dbf90f",
   "metadata": {},
   "outputs": [],
   "source": [
    "history"
   ]
  },
  {
   "cell_type": "code",
   "execution_count": null,
   "id": "118963b5-b86b-490e-becc-0e798f147689",
   "metadata": {},
   "outputs": [],
   "source": [
    "b"
   ]
  },
  {
   "cell_type": "code",
   "execution_count": null,
   "id": "1ea25754-5859-41f6-952f-ff89e3de421b",
   "metadata": {},
   "outputs": [],
   "source": []
  }
 ],
 "metadata": {
  "kernelspec": {
   "display_name": "Python 3 (ipykernel)",
   "language": "python",
   "name": "python3"
  },
  "language_info": {
   "codemirror_mode": {
    "name": "ipython",
    "version": 3
   },
   "file_extension": ".py",
   "mimetype": "text/x-python",
   "name": "python",
   "nbconvert_exporter": "python",
   "pygments_lexer": "ipython3",
   "version": "3.10.6"
  }
 },
 "nbformat": 4,
 "nbformat_minor": 5
}
